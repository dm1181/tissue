{
 "cells": [
  {
   "cell_type": "code",
   "execution_count": 1,
   "metadata": {},
   "outputs": [],
   "source": [
    "import matplotlib.pyplot as plt\n",
    "%matplotlib inline"
   ]
  },
  {
   "cell_type": "code",
   "execution_count": 2,
   "metadata": {},
   "outputs": [],
   "source": [
    "from sympy import *\n",
    "from sympy import latex\n",
    "import mpmath as mp\n",
    "import numpy as np\n",
    "from sympy.plotting.plot import plot3d\n",
    "init_printing()"
   ]
  },
  {
   "cell_type": "code",
   "execution_count": 3,
   "metadata": {},
   "outputs": [],
   "source": [
    "x, mu, sigma = symbols('x, \\mu, \\sigma')\n",
    "t1, t2 = symbols('t_1, t_2')"
   ]
  },
  {
   "cell_type": "code",
   "execution_count": 4,
   "metadata": {},
   "outputs": [],
   "source": [
    "def p(x, mu, sigma):\n",
    "    return sqrt(1/(2*pi*sigma**2)) * E**(-((x-mu))**2/(2*sigma**2))"
   ]
  },
  {
   "cell_type": "code",
   "execution_count": 18,
   "metadata": {},
   "outputs": [],
   "source": [
    "def p_(x, t1, t2):\n",
    "    return sqrt(-t2/pi) * E**((x+(t1/(2*t2)))**2*t2)"
   ]
  },
  {
   "cell_type": "code",
   "execution_count": 19,
   "metadata": {},
   "outputs": [
    {
     "data": {
      "image/png": "[encoded data removed]",
      "text/latex": [
       "$\\displaystyle \\frac{\\sqrt{- t_{2}} e^{t_{2} \\left(\\frac{t_{1}}{2 t_{2}} + x\\right)^{2}}}{\\sqrt{\\pi}}$"
      ],
      "text/plain": [
       "                      2\n",
       "            ⎛ t₁     ⎞ \n",
       "         t₂⋅⎜──── + x⎟ \n",
       "  _____     ⎝2⋅t₂    ⎠ \n",
       "╲╱ -t₂ ⋅ℯ              \n",
       "───────────────────────\n",
       "           √π          "
      ]
     },
     "execution_count": 19,
     "metadata": {},
     "output_type": "execute_result"
    }
   ],
   "source": [
    "(p_(x, t1, t2))"
   ]
  },
  {
   "cell_type": "code",
   "execution_count": 20,
   "metadata": {},
   "outputs": [],
   "source": [
    "t1_ = simplify(diff(log(p_(x, t1, t2)), t1))"
   ]
  },
  {
   "cell_type": "code",
   "execution_count": 21,
   "metadata": {},
   "outputs": [
    {
     "data": {
      "image/png": "[encoded data removed]",
      "text/latex": [
       "$\\displaystyle \\frac{t_{1}}{2 t_{2}} + x$"
      ],
      "text/plain": [
       " t₁     \n",
       "──── + x\n",
       "2⋅t₂    "
      ]
     },
     "execution_count": 21,
     "metadata": {},
     "output_type": "execute_result"
    }
   ],
   "source": [
    "t1_"
   ]
  },
  {
   "cell_type": "code",
   "execution_count": 22,
   "metadata": {},
   "outputs": [],
   "source": [
    "t2_ = simplify(diff(log(p_(x, t1, t2)), t2))"
   ]
  },
  {
   "cell_type": "code",
   "execution_count": 23,
   "metadata": {},
   "outputs": [
    {
     "data": {
      "image/png": "[encoded data removed]",
      "text/latex": [
       "$\\displaystyle - \\frac{t_{1}^{2}}{4 t_{2}^{2}} + x^{2} + \\frac{1}{2 t_{2}}$"
      ],
      "text/plain": [
       "     2             \n",
       "   t₁      2    1  \n",
       "- ───── + x  + ────\n",
       "      2        2⋅t₂\n",
       "  4⋅t₂             "
      ]
     },
     "execution_count": 23,
     "metadata": {},
     "output_type": "execute_result"
    }
   ],
   "source": [
    "t2_"
   ]
  },
  {
   "cell_type": "code",
   "execution_count": 30,
   "metadata": {},
   "outputs": [
    {
     "data": {
      "image/png": "[encoded data removed]",
      "text/latex": [
       "$\\displaystyle \\frac{t_{1} \\left(- t_{1}^{2} + 4 t_{2}^{3} \\left(2 t_{1}^{2} + 6 t_{2}^{2} + t_{2}\\right) + 4 t_{2}^{2} \\left(t_{1}^{2} + 1\\right) + 2 t_{2} \\left(1 - t_{1}^{2}\\right)\\right)}{8 t_{2}^{3}}$"
      ],
      "text/plain": [
       "   ⎛    2       3 ⎛    2       2     ⎞       2 ⎛  2    ⎞        ⎛      2⎞⎞\n",
       "t₁⋅⎝- t₁  + 4⋅t₂ ⋅⎝2⋅t₁  + 6⋅t₂  + t₂⎠ + 4⋅t₂ ⋅⎝t₁  + 1⎠ + 2⋅t₂⋅⎝1 - t₁ ⎠⎠\n",
       "──────────────────────────────────────────────────────────────────────────\n",
       "                                      3                                   \n",
       "                                  8⋅t₂                                    "
      ]
     },
     "execution_count": 30,
     "metadata": {},
     "output_type": "execute_result"
    }
   ],
   "source": [
    "simplify(simplify(integrate(p(x, t1, t2)*t2_*t1_, (x, -oo, oo), conds='none')))"
   ]
  },
  {
   "cell_type": "code",
   "execution_count": 27,
   "metadata": {},
   "outputs": [
    {
     "data": {
      "image/png": "[encoded data removed]",
      "text/latex": [
       "$\\displaystyle \\begin{cases} 0 & \\text{for}\\: \\left(2 \\left|{\\arg{\\left(\\sigma \\right)}}\\right| \\leq \\frac{\\pi}{2} \\wedge \\left|{2 \\arg{\\left(\\mu \\right)} - 4 \\arg{\\left(\\sigma \\right)}}\\right| < \\pi \\wedge \\left|{2 \\arg{\\left(\\mu \\right)} - 4 \\arg{\\left(\\sigma \\right)} + 2 \\pi}\\right| < \\pi\\right) \\vee 2 \\left|{\\arg{\\left(\\sigma \\right)}}\\right| < \\frac{\\pi}{2} \\\\\\int\\limits_{-\\infty}^{\\infty} \\frac{\\sqrt{2} \\left(\\mu - x\\right) \\left(\\sigma^{2} - \\left(\\mu - x\\right)^{2}\\right) \\sqrt{\\frac{1}{\\sigma^{2}}} e^{- \\frac{\\left(\\mu - x\\right)^{2}}{2 \\sigma^{2}}}}{2 \\sqrt{\\pi} \\sigma^{5}}\\, dx & \\text{otherwise} \\end{cases}$"
      ],
      "text/plain": [
       "⎧                                                                            ⎛\n",
       "⎪                                  0                                     for ⎜\n",
       "⎪                                                                            ⎝\n",
       "⎪                                                                             \n",
       "⎪∞                                                                            \n",
       "⎪⌠                                                                            \n",
       "⎪⎮                                                                2           \n",
       "⎪⎮                                                      -(\\mu - x)            \n",
       "⎪⎮                                                      ────────────          \n",
       "⎨⎮                                           _________           2            \n",
       "⎪⎮               ⎛      2            2⎞     ╱    1       2⋅\\sigma             \n",
       "⎪⎮  √2⋅(\\mu - x)⋅⎝\\sigma  - (\\mu - x) ⎠⋅   ╱  ─────── ⋅ℯ                      \n",
       "⎪⎮                                        ╱         2                         \n",
       "⎪⎮                                      ╲╱    \\sigma                          \n",
       "⎪⎮  ──────────────────────────────────────────────────────────────── dx       \n",
       "⎪⎮                                       5                                    \n",
       "⎪⎮                            2⋅√π⋅\\sigma                                     \n",
       "⎪⌡                                                                            \n",
       "⎩-∞                                                                           \n",
       "\n",
       "                  π                                                           \n",
       "2⋅│arg(\\sigma)│ ≤ ─ ∧ │2⋅arg(\\mu) - 4⋅arg(\\sigma)│ < π ∧ │2⋅arg(\\mu) - 4⋅arg(\\\n",
       "                  2                                                           \n",
       "                                                                              \n",
       "                                                                              \n",
       "                                                                              \n",
       "                                                                              \n",
       "                                                                              \n",
       "                                                                              \n",
       "                                                                              \n",
       "                                                                              \n",
       "                                                                              \n",
       "                                                                              \n",
       "                                                                              \n",
       "                                                    otherwise                 \n",
       "                                                                              \n",
       "                                                                              \n",
       "                                                                              \n",
       "                                                                              \n",
       "\n",
       "                 ⎞                     π\n",
       "sigma) + 2⋅π│ < π⎟ ∨ 2⋅│arg(\\sigma)│ < ─\n",
       "                 ⎠                     2\n",
       "                                        \n",
       "                                        \n",
       "                                        \n",
       "                                        \n",
       "                                        \n",
       "                                        \n",
       "                                        \n",
       "                                        \n",
       "                                        \n",
       "                                        \n",
       "                                        \n",
       "                                        \n",
       "                                        \n",
       "                                        \n",
       "                                        \n",
       "                                        "
      ]
     },
     "execution_count": 27,
     "metadata": {},
     "output_type": "execute_result"
    }
   ],
   "source": [
    "simplify(integrate(p(x, mu, sigma)*m*s, (x, -oo, oo)))"
   ]
  },
  {
   "cell_type": "code",
   "execution_count": 28,
   "metadata": {},
   "outputs": [
    {
     "data": {
      "image/png": "[encoded data removed]",
      "text/latex": [
       "$\\displaystyle \\begin{cases} \\frac{2}{\\sigma^{2}} & \\text{for}\\: \\left(2 \\left|{\\arg{\\left(\\sigma \\right)}}\\right| \\leq \\frac{\\pi}{2} \\wedge \\left|{2 \\arg{\\left(\\mu \\right)} - 4 \\arg{\\left(\\sigma \\right)}}\\right| < \\pi \\wedge \\left|{2 \\arg{\\left(\\mu \\right)} - 4 \\arg{\\left(\\sigma \\right)} + 2 \\pi}\\right| < \\pi\\right) \\vee 2 \\left|{\\arg{\\left(\\sigma \\right)}}\\right| < \\frac{\\pi}{2} \\\\\\int\\limits_{-\\infty}^{\\infty} \\frac{\\sqrt{2} \\left(\\sigma^{2} - \\left(\\mu - x\\right)^{2}\\right)^{2} \\sqrt{\\frac{1}{\\sigma^{2}}} e^{- \\frac{\\left(\\mu - x\\right)^{2}}{2 \\sigma^{2}}}}{2 \\sqrt{\\pi} \\sigma^{6}}\\, dx & \\text{otherwise} \\end{cases}$"
      ],
      "text/plain": [
       "⎧                              2                                    ⎛         \n",
       "⎪                           ───────                             for ⎜2⋅│arg(\\s\n",
       "⎪                                 2                                 ⎝         \n",
       "⎪                           \\sigma                                            \n",
       "⎪                                                                             \n",
       "⎪∞                                                                            \n",
       "⎪⌠                                                                            \n",
       "⎪⎮                                                       2                    \n",
       "⎪⎮                                             -(\\mu - x)                     \n",
       "⎪⎮                                             ────────────                   \n",
       "⎨⎮                           2      _________           2                     \n",
       "⎪⎮     ⎛      2            2⎞      ╱    1       2⋅\\sigma                      \n",
       "⎪⎮  √2⋅⎝\\sigma  - (\\mu - x) ⎠ ⋅   ╱  ─────── ⋅ℯ                               \n",
       "⎪⎮                               ╱         2                                  \n",
       "⎪⎮                             ╲╱    \\sigma                                   \n",
       "⎪⎮  ─────────────────────────────────────────────────────── dx                \n",
       "⎪⎮                                   6                                        \n",
       "⎪⎮                        2⋅√π⋅\\sigma                                         \n",
       "⎪⌡                                                                            \n",
       "⎪-∞                                                                           \n",
       "⎩                                                                             \n",
       "\n",
       "         π                                                                    \n",
       "igma)│ ≤ ─ ∧ │2⋅arg(\\mu) - 4⋅arg(\\sigma)│ < π ∧ │2⋅arg(\\mu) - 4⋅arg(\\sigma) + \n",
       "         2                                                                    \n",
       "                                                                              \n",
       "                                                                              \n",
       "                                                                              \n",
       "                                                                              \n",
       "                                                                              \n",
       "                                                                              \n",
       "                                                                              \n",
       "                                                                              \n",
       "                                                                              \n",
       "                                                                              \n",
       "                                                                              \n",
       "                                                                              \n",
       "                                           otherwise                          \n",
       "                                                                              \n",
       "                                                                              \n",
       "                                                                              \n",
       "                                                                              \n",
       "                                                                              \n",
       "\n",
       "        ⎞                     π\n",
       "2⋅π│ < π⎟ ∨ 2⋅│arg(\\sigma)│ < ─\n",
       "        ⎠                     2\n",
       "                               \n",
       "                               \n",
       "                               \n",
       "                               \n",
       "                               \n",
       "                               \n",
       "                               \n",
       "                               \n",
       "                               \n",
       "                               \n",
       "                               \n",
       "                               \n",
       "                               \n",
       "                               \n",
       "                               \n",
       "                               \n",
       "                               \n",
       "                               "
      ]
     },
     "execution_count": 28,
     "metadata": {},
     "output_type": "execute_result"
    }
   ],
   "source": [
    "simplify(integrate(p(x, mu, sigma)*s*s, (x, -oo, oo)))"
   ]
  },
  {
   "cell_type": "code",
   "execution_count": 35,
   "metadata": {},
   "outputs": [],
   "source": [
    "t1 = mu/sigma**2"
   ]
  },
  {
   "cell_type": "code",
   "execution_count": 33,
   "metadata": {},
   "outputs": [],
   "source": [
    "t2 = -1/(2*sigma**2)"
   ]
  },
  {
   "cell_type": "code",
   "execution_count": 43,
   "metadata": {},
   "outputs": [
    {
     "data": {
      "image/png": "[encoded data removed]",
      "text/latex": [
       "$\\displaystyle \\tilde{\\infty}$"
      ],
      "text/plain": [
       "zoo"
      ]
     },
     "execution_count": 43,
     "metadata": {},
     "output_type": "execute_result"
    }
   ],
   "source": [
    "diff(t2, sigma)**-1"
   ]
  },
  {
   "cell_type": "code",
   "execution_count": null,
   "metadata": {},
   "outputs": [],
   "source": []
  }
 ],
 "metadata": {
  "kernelspec": {
   "display_name": "Python 3",
   "language": "python",
   "name": "python3"
  },
  "language_info": {
   "codemirror_mode": {
    "name": "ipython",
    "version": 3
   },
   "file_extension": ".py",
   "mimetype": "text/x-python",
   "name": "python",
   "nbconvert_exporter": "python",
   "pygments_lexer": "ipython3",
   "version": "3.7.1"
  }
 },
 "nbformat": 4,
 "nbformat_minor": 4
}
