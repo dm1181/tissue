{
 "cells": [
  {
   "cell_type": "code",
   "execution_count": 2,
   "metadata": {},
   "outputs": [],
   "source": [
    "import numpy as np\n",
    "from matplotlib import pyplot as plt"
   ]
  },
  {
   "cell_type": "code",
   "execution_count": null,
   "metadata": {},
   "outputs": [],
   "source": [
    "# Number of cells\n",
    "N = 1000 \n",
    "\n",
    "# Number of time steps\n",
    "tf = 1000 \n",
    "\n",
    "# Target size\n",
    "A_star = 10000 \n",
    "\n",
    "# Growth rate\n",
    "k = 0.001 \n",
    "\n",
    "# Initial size\n",
    "A0 = N\n",
    "\n",
    "# Number of signalling molecules\n",
    "M = 1e6\n",
    "\n",
    "# Linear receptor size on each cell in μm\n",
    "a = 1e-2\n",
    "\n",
    "# Diffusion constant of signalling molecules \n",
    "D = 100 \n",
    "\n",
    "meas_width_0 = (A0**3)/(M*a*D)\n",
    "\n",
    "cells = [Cell(meas_width_0) for n in range(N)]"
   ]
  },
  {
   "cell_type": "code",
   "execution_count": null,
   "metadata": {},
   "outputs": [],
   "source": [
    "class Cell:\n",
    "    def __init__(self, meas_width_0):\n",
    "        # Initial cell size centered at 1\n",
    "        self.A0 = np.random.normal(loc=1.0, scale=0.1) \n",
    "        \n",
    "        # Current state\n",
    "        self.A = self.A0 \n",
    "        \n",
    "        self.A_hat"
   ]
  }
 ],
 "metadata": {
  "kernelspec": {
   "display_name": "Python 3",
   "language": "python",
   "name": "python3"
  },
  "language_info": {
   "codemirror_mode": {
    "name": "ipython",
    "version": 3
   },
   "file_extension": ".py",
   "mimetype": "text/x-python",
   "name": "python",
   "nbconvert_exporter": "python",
   "pygments_lexer": "ipython3",
   "version": "3.7.7"
  }
 },
 "nbformat": 4,
 "nbformat_minor": 4
}
