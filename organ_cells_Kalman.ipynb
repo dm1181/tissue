{
 "cells": [
  {
   "cell_type": "code",
   "execution_count": 2,
   "metadata": {},
   "outputs": [],
   "source": [
    "import numpy as np\n",
    "from matplotlib import pyplot as plt"
   ]
  },
  {
   "cell_type": "code",
   "execution_count": null,
   "metadata": {},
   "outputs": [],
   "source": [
    "# Number of cells\n",
    "N = 1000 \n",
    "\n",
    "# Number of time steps\n",
    "tf = 1000 \n",
    "\n",
    "# Target size\n",
    "A_star = 10000 \n",
    "\n",
    "# Growth rate\n",
    "k = 0.001 \n",
    "\n",
    "# Initial size\n",
    "A0 = N\n",
    "a0 = 1\n",
    "\n",
    "# Number of signalling molecules\n",
    "M = 1e6\n",
    "\n",
    "# Diffusion constant of signalling molecules \n",
    "D = 100 \n",
    "\n",
    "meas_width_0 = (A0**3)/(M*D)\n",
    "\n",
    "cells = [Cell for n in range(N)]"
   ]
  },
  {
   "cell_type": "code",
   "execution_count": null,
   "metadata": {},
   "outputs": [],
   "source": [
    "class Cell:\n",
    "    def __init__(self, tf, A_star, k):\n",
    "        \n",
    "        self.tf = tf\n",
    "        self.A_star = A_star\n",
    "        self.k = k\n",
    "        \n",
    "        self.a = np.zeros(tf) # Cell's true area (state)\n",
    "        self.A_hat = np.zeros(tf) # Estimate\n",
    "        K = np.zeros(tf) # Value of Kalman gain\n",
    "        y = np.zeros(tf) # Measurements\n",
    "        p = np.zeros(tf) # Estimate variance\n",
    "        xi_all = np.zeros(tf) # Measurement variance\n",
    "        \n",
    "    def initialize_growth(self):\n",
    "        \n",
    "        # Initial cell size centered at 1\n",
    "        self.a0 = np.random.normal(loc=1.0, scale=0.1) \n",
    "        \n",
    "        # Current state\n",
    "        self.a = self.a0 \n",
    "        \n",
    "        \n",
    "        "
   ]
  }
 ],
 "metadata": {
  "kernelspec": {
   "display_name": "Python 3",
   "language": "python",
   "name": "python3"
  },
  "language_info": {
   "codemirror_mode": {
    "name": "ipython",
    "version": 3
   },
   "file_extension": ".py",
   "mimetype": "text/x-python",
   "name": "python",
   "nbconvert_exporter": "python",
   "pygments_lexer": "ipython3",
   "version": "3.7.7"
  }
 },
 "nbformat": 4,
 "nbformat_minor": 4
}
