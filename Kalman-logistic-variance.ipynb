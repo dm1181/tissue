{
 "cells": [
  {
   "cell_type": "code",
   "execution_count": 1,
   "metadata": {},
   "outputs": [],
   "source": [
    "import numpy as np\n",
    "from matplotlib import pyplot as plt"
   ]
  },
  {
   "cell_type": "code",
   "execution_count": 2,
   "metadata": {},
   "outputs": [],
   "source": [
    "tf = 20 # Final time in units where k = 1\n",
    "dt = 0.01\n",
    "N = int(tf/dt)\n",
    "\n",
    "A = np.zeros(N) # True state\n",
    "A_hat = np.zeros(N) # Estimate\n",
    "K = np.zeros(N) # Value of Kalman gain\n",
    "y = np.zeros(N) # Measurements\n",
    "A2 = np.zeros(N) # Area variance\n",
    "A_hat2 = np.zeros(N) # Estimate variance\n",
    "AA_hat = np.zeros(N) # Covariance\n",
    "p = np.zeros(N) # Estimate variance"
   ]
  },
  {
   "cell_type": "code",
   "execution_count": 3,
   "metadata": {},
   "outputs": [],
   "source": [
    "k = 1 # Growth rate\n",
    "\n",
    "A0 = 0.9   # Initial size in units of initial cell size = 1\n",
    "A_star = 1 # Final size\n",
    "\n",
    "# Growth noise\n",
    "d_mag = 1e-4\n",
    "d2 = d_mag*dt\n",
    "\n",
    "# Measurement noise\n",
    "xi_mag = 1.5*d_mag/(k**2)\n",
    "xi2 = xi_mag/dt\n",
    "\n",
    "# Initial size\n",
    "A[0] = A0 \n",
    "\n",
    "# Initialize variance and covariance\n",
    "A2[0] = xi2\n",
    "A_hat2[0] = A2[0]\n",
    "AA_hat[0] = A2[0]\n",
    "p[0] = xi2\n",
    "\n",
    "# Make a measurement\n",
    "y[0] = A[0] + np.random.normal(loc=0.0, scale=xi2)\n",
    "\n",
    "# Take this measurement as the estimate because we have no other information\n",
    "A_hat[0] = y[0]\n",
    "\n"
   ]
  },
  {
   "cell_type": "code",
   "execution_count": 64,
   "metadata": {},
   "outputs": [],
   "source": [
    "val = 2 + dt*(k**3)*xi_mag/(d_mag + (k**2 * xi_mag))\n",
    "#K_range = np.linspace(2+dt*k**3*xi_mag/(d_mag+k**2*xi_mag), 2+dt*k**3*xi_mag/(d_mag+k**2*xi_mag), num=1)\n",
    "K_range = np.logspace(np.log10(1.1), np.log10(0.9), num=50)\n",
    "a = np.zeros(50)\n",
    "\n",
    "for j, K__ in enumerate(K_range):\n",
    "    K_fixed = K__\n",
    "    K[0] = K_fixed\n",
    "    \n",
    "    for n in range(0, N-1):\n",
    "\n",
    "        # Update growth noise\n",
    "        d = np.random.normal(loc=0.0, scale=np.sqrt(d2))\n",
    "\n",
    "        # Update measurement noise\n",
    "        xi = np.random.normal(loc=0.0, scale=np.sqrt(xi2))\n",
    "\n",
    "        # Update the true state\n",
    "        A[n+1] = -k*dt*(A_hat[n] - A_star) + A[n] + d\n",
    "\n",
    "        if A[n+1] <= 0: # True size never goes below 0\n",
    "            A[n+1] = A[n]\n",
    "\n",
    "        # Predict the variance of the estimate\n",
    "        p_ = p[n] + d2\n",
    "\n",
    "        # Predict the true state using the internal model and the previous estimate\n",
    "        A_hat_ = -k*dt*(A_hat[n] - A_star) + A_hat[n] \n",
    "\n",
    "        # Make a measurement\n",
    "        y[n+1] = A[n+1] + xi\n",
    "\n",
    "        # Update area variance\n",
    "        A2[n+1] = ((k*dt)**2)*A_hat2[n] - 2*k*dt*AA_hat[n] + A2[n] + d2\n",
    "\n",
    "        # Placeholder variables\n",
    "        AA_hat_ = -k*dt*(1-k*dt)*A_hat2[n] + (1-k*dt)*AA_hat[n]\n",
    "        A_hat2_ = ((1-k*dt)**2)*A_hat2[n]\n",
    "\n",
    "        # Calculate optimal Kalman gain \n",
    "        K[n+1] = K_fixed\n",
    "       # K[n+1] = (k*dt*A_hat2_ - (k*dt+1)*AA_hat_ + A2[n+1])/(k*dt*A_hat2_-2*k*dt*AA_hat_+k*dt*A2[n+1]+k*dt*xi2)\n",
    "       # K[n+1] = p_ / (p_ + xi2)\n",
    "        K_ = K[n+1]\n",
    "        \n",
    "        # Update variance and covariance\n",
    "        A_hat2[n+1] = (1-K_)**2*A_hat2_ + K_**2*A2[n+1] + 2*K_*(1-K_)*AA_hat_ + K_**2*xi2\n",
    "        AA_hat[n+1] = (1-K_)*AA_hat_ + K_*A2[n+1]\n",
    "\n",
    "        # Update estimate\n",
    "        A_hat[n+1] = (1-K_)*A_hat_+K_*y[n+1]\n",
    "\n",
    "        # Update the error variance (estimate)\n",
    "        p[n+1] = (1 - K_)**2*p_+K_**2*xi2\n",
    "        \n",
    "    a[j]=A2[-1]"
   ]
  },
  {
   "cell_type": "code",
   "execution_count": 65,
   "metadata": {},
   "outputs": [
    {
     "data": {
      "text/plain": [
       "array([1.1       , 1.09550436, 1.09102709, 1.08656812, 1.08212738,\n",
       "       1.07770478, 1.07330026, 1.06891374, 1.06454515, 1.06019441,\n",
       "       1.05586145, 1.0515462 , 1.04724859, 1.04296854, 1.03870599,\n",
       "       1.03446085, 1.03023307, 1.02602256, 1.02182926, 1.0176531 ,\n",
       "       1.01349401, 1.00935191, 1.00522674, 1.00111844, 0.99702692,\n",
       "       0.99295213, 0.98889398, 0.98485243, 0.98082739, 0.9768188 ,\n",
       "       0.97282659, 0.96885071, 0.96489106, 0.96094761, 0.95702027,\n",
       "       0.95310898, 0.94921367, 0.94533429, 0.94147076, 0.93762302,\n",
       "       0.933791  , 0.92997465, 0.92617389, 0.92238867, 0.91861892,\n",
       "       0.91486457, 0.91112557, 0.90740185, 0.90369335, 0.9       ])"
      ]
     },
     "execution_count": 65,
     "metadata": {},
     "output_type": "execute_result"
    }
   ],
   "source": [
    "K_range"
   ]
  },
  {
   "cell_type": "code",
   "execution_count": 66,
   "metadata": {},
   "outputs": [
    {
     "data": {
      "text/plain": [
       "array([0.00012569, 0.00012569, 0.00012568, 0.00012568, 0.00012568,\n",
       "       0.00012567, 0.00012567, 0.00012567, 0.00012567, 0.00012566,\n",
       "       0.00012566, 0.00012566, 0.00012565, 0.00012565, 0.00012565,\n",
       "       0.00012565, 0.00012564, 0.00012564, 0.00012564, 0.00012564,\n",
       "       0.00012564, 0.00012563, 0.00012563, 0.00012563, 0.00012563,\n",
       "       0.00012562, 0.00012562, 0.00012562, 0.00012562, 0.00012562,\n",
       "       0.00012561, 0.00012561, 0.00012561, 0.00012561, 0.00012561,\n",
       "       0.00012561, 0.0001256 , 0.0001256 , 0.0001256 , 0.0001256 ,\n",
       "       0.0001256 , 0.0001256 , 0.0001256 , 0.00012559, 0.00012559,\n",
       "       0.00012559, 0.00012559, 0.00012559, 0.00012559, 0.00012559])"
      ]
     },
     "execution_count": 66,
     "metadata": {},
     "output_type": "execute_result"
    }
   ],
   "source": [
    "a"
   ]
  },
  {
   "cell_type": "code",
   "execution_count": 68,
   "metadata": {},
   "outputs": [
    {
     "data": {
      "text/plain": [
       "[<matplotlib.lines.Line2D at 0x118401e90>]"
      ]
     },
     "execution_count": 68,
     "metadata": {},
     "output_type": "execute_result"
    },
    {
     "data": {
      "image/png": "[encoded data removed]",
      "text/plain": [
       "<Figure size 432x288 with 1 Axes>"
      ]
     },
     "metadata": {
      "needs_background": "light"
     },
     "output_type": "display_data"
    }
   ],
   "source": [
    "plt.loglog(K_range, a)"
   ]
  },
  {
   "cell_type": "code",
   "execution_count": 69,
   "metadata": {},
   "outputs": [
    {
     "data": {
      "text/plain": [
       "0.9"
      ]
     },
     "execution_count": 69,
     "metadata": {},
     "output_type": "execute_result"
    }
   ],
   "source": [
    "mi = K_range[np.argmin(a)]\n",
    "mi"
   ]
  },
  {
   "cell_type": "code",
   "execution_count": 70,
   "metadata": {},
   "outputs": [
    {
     "data": {
      "text/plain": [
       "[<matplotlib.lines.Line2D at 0x1187d0350>]"
      ]
     },
     "execution_count": 70,
     "metadata": {},
     "output_type": "execute_result"
    },
    {
     "data": {
      "image/png": "[encoded data removed]",
      "text/plain": [
       "<Figure size 432x288 with 1 Axes>"
      ]
     },
     "metadata": {
      "needs_background": "light"
     },
     "output_type": "display_data"
    }
   ],
   "source": [
    "plt.plot(A_hat2)\n",
    "plt.plot(AA_hat)"
   ]
  },
  {
   "cell_type": "code",
   "execution_count": 71,
   "metadata": {},
   "outputs": [
    {
     "data": {
      "text/plain": [
       "[<matplotlib.lines.Line2D at 0x11889fcd0>]"
      ]
     },
     "execution_count": 71,
     "metadata": {},
     "output_type": "execute_result"
    },
    {
     "data": {
      "image/png": "[encoded data removed]",
      "text/plain": [
       "<Figure size 432x288 with 1 Axes>"
      ]
     },
     "metadata": {
      "needs_background": "light"
     },
     "output_type": "display_data"
    }
   ],
   "source": [
    "plt.loglog(A2)"
   ]
  },
  {
   "cell_type": "code",
   "execution_count": 72,
   "metadata": {},
   "outputs": [
    {
     "data": {
      "text/plain": [
       "Text(0.5, 1.0, 'Kalman gain')"
      ]
     },
     "execution_count": 72,
     "metadata": {},
     "output_type": "execute_result"
    },
    {
     "data": {
      "image/png": "[encoded data removed]",
      "text/plain": [
       "<Figure size 432x288 with 1 Axes>"
      ]
     },
     "metadata": {
      "needs_background": "light"
     },
     "output_type": "display_data"
    }
   ],
   "source": [
    "fig = plt.figure()\n",
    "plt.plot(K)\n",
    "plt.title('Kalman gain')"
   ]
  },
  {
   "cell_type": "code",
   "execution_count": 73,
   "metadata": {},
   "outputs": [
    {
     "data": {
      "text/plain": [
       "(0.8, 1.2)"
      ]
     },
     "execution_count": 73,
     "metadata": {},
     "output_type": "execute_result"
    },
    {
     "data": {
      "image/png": "[encoded data removed]",
      "text/plain": [
       "<Figure size 432x288 with 1 Axes>"
      ]
     },
     "metadata": {
      "needs_background": "light"
     },
     "output_type": "display_data"
    },
    {
     "data": {
      "image/png": "[encoded data removed]",
      "text/plain": [
       "<Figure size 432x288 with 1 Axes>"
      ]
     },
     "metadata": {
      "needs_background": "light"
     },
     "output_type": "display_data"
    }
   ],
   "source": [
    "fig, ax = plt.subplots()\n",
    "#ax.plot(A_hat, label='estimated state with Kalman filter', color='red')\n",
    "ax.plot(A, label='true state', color='blue')\n",
    "\n",
    "#ax.fill_between(x=range(0, N), y1=A_hat-2*np.sqrt(xi_all), y2=A_hat+2*np.sqrt(xi_all), facecolor='blue', alpha=0.3, label='estimator variance using only measurements')\n",
    "#ax.fill_between(x=range(0, N), y1=A_hat-2*np.sqrt(p), y2=A_hat+2*np.sqrt(p), facecolor='orange', alpha=0.9, label='estimator variance using Kalman filter')\n",
    "ax.legend(loc='lower right')\n",
    "#ax.set_ylim(bottom=0, top=1.1)\n",
    "\n",
    "fig, ax = plt.subplots()\n",
    "#ax.plot(A_hat[-100:], label='estimated state with Kalman filter', color='red')\n",
    "ax.plot(A[-100:], label='true state', color='blue')\n",
    "\n",
    "#ax.fill_between(x=range(0, N), y1=A_hat-2*np.sqrt(xi_all), y2=A_hat+2*np.sqrt(xi_all), facecolor='blue', alpha=0.3, label='estimator variance using only measurements')\n",
    "#ax.fill_between(x=range(0, N), y1=A_hat-2*np.sqrt(p), y2=A_hat+2*np.sqrt(p), facecolor='orange', alpha=0.9, label='estimator variance using Kalman filter')\n",
    "ax.legend(loc='lower right')\n",
    "ax.set_ylim(bottom=0.8, top=1.2)"
   ]
  },
  {
   "cell_type": "code",
   "execution_count": 198,
   "metadata": {},
   "outputs": [
    {
     "data": {
      "image/png": "[encoded data removed]",
      "text/plain": [
       "<Figure size 432x288 with 1 Axes>"
      ]
     },
     "metadata": {
      "needs_background": "light"
     },
     "output_type": "display_data"
    }
   ],
   "source": [
    "fig, ax = plt.subplots()\n",
    "ax.plot(A2, label='area variance')\n",
    "ax.plot(A_hat2, label='estimator variance')\n",
    "ax.plot(AA_hat, label='covariance')\n",
    "#ax.set_ylim(bottom=0, top=0.01)\n",
    "ax.legend()\n",
    "ax.set_yscale('log')\n"
   ]
  },
  {
   "cell_type": "markdown",
   "metadata": {},
   "source": [
    "# Check area variance"
   ]
  },
  {
   "cell_type": "code",
   "execution_count": 67,
   "metadata": {},
   "outputs": [
    {
     "name": "stdout",
     "output_type": "stream",
     "text": [
      "6.25e-06 6.562500000000001e-06\n"
     ]
    },
    {
     "data": {
      "text/plain": [
       "6.578947448715245e-06"
      ]
     },
     "execution_count": 67,
     "metadata": {},
     "output_type": "execute_result"
    }
   ],
   "source": [
    "analytic_1 = d_mag/(2*k) + (d_mag*xi_mag)**(1/2)\n",
    "analytic_2 = (d_mag + k**2*xi_mag)/(2*k) + (1/4)*(d_mag + k**2*xi_mag)*dt\n",
    "print(analytic_1, analytic_2)\n",
    "A2[-1]"
   ]
  },
  {
   "cell_type": "code",
   "execution_count": 384,
   "metadata": {},
   "outputs": [
    {
     "data": {
      "text/plain": [
       "-0.0074550624293366185"
      ]
     },
     "execution_count": 384,
     "metadata": {},
     "output_type": "execute_result"
    }
   ],
   "source": [
    "(A2[-1] - analytic_2)/(dt**2)"
   ]
  },
  {
   "cell_type": "markdown",
   "metadata": {},
   "source": [
    "# Check estimator variance"
   ]
  },
  {
   "cell_type": "code",
   "execution_count": 345,
   "metadata": {},
   "outputs": [
    {
     "name": "stdout",
     "output_type": "stream",
     "text": [
      "4.5458884297520655e-06 0.009998499824999998\n"
     ]
    },
    {
     "data": {
      "text/plain": [
       "0.009998499848082302"
      ]
     },
     "execution_count": 345,
     "metadata": {},
     "output_type": "execute_result"
    }
   ],
   "source": [
    "analytic_2 = xi_mag/dt - (3*k*xi_mag)/2 - (7/4) * k**2 * xi_mag * dt\n",
    "analytic_1 = (d_mag*xi_mag)/(2*k*xi_mag + 2*(d_mag*xi_mag)**(1/2)) + (\n",
    " d_mag*k*(-3*d_mag*k*xi_mag + k**3*xi_mag**2 + 2*d_mag*(d_mag*xi_mag)**(1/2))*dt)/(4*(d_mag - k**2*xi_mag)**2)\n",
    "print(analytic_1, analytic_2)\n",
    "A_hat2[-1]"
   ]
  },
  {
   "cell_type": "code",
   "execution_count": 346,
   "metadata": {},
   "outputs": [
    {
     "data": {
      "text/plain": [
       "0.0023082303429733386"
      ]
     },
     "execution_count": 346,
     "metadata": {},
     "output_type": "execute_result"
    }
   ],
   "source": [
    "(A_hat2[-1] - analytic_2)/dt**2"
   ]
  },
  {
   "cell_type": "markdown",
   "metadata": {},
   "source": [
    "# Check covariance"
   ]
  },
  {
   "cell_type": "code",
   "execution_count": 343,
   "metadata": {},
   "outputs": [
    {
     "name": "stdout",
     "output_type": "stream",
     "text": [
      "2.2727272727272728e-10 4.99925e-07\n"
     ]
    },
    {
     "data": {
      "text/plain": [
       "4.999460822091709e-07"
      ]
     },
     "execution_count": 343,
     "metadata": {},
     "output_type": "execute_result"
    }
   ],
   "source": [
    "analytic_2 = (k*xi_mag)/2 - (3/4)*(k**2*xi_mag)*dt \n",
    "analytic_1 = (d_mag*k*xi_mag*dt)/(4*(k*xi_mag + (d_mag*xi_mag)**(1/2)))\n",
    "print(analytic_1, analytic_2)\n",
    "AA_hat[-1]"
   ]
  },
  {
   "cell_type": "code",
   "execution_count": 344,
   "metadata": {},
   "outputs": [
    {
     "data": {
      "text/plain": [
       "0.0021082209170898898"
      ]
     },
     "execution_count": 344,
     "metadata": {},
     "output_type": "execute_result"
    }
   ],
   "source": [
    "(AA_hat[-1] - analytic_2)/(dt**2)"
   ]
  },
  {
   "cell_type": "markdown",
   "metadata": {},
   "source": [
    "# Check Kalman"
   ]
  },
  {
   "cell_type": "code",
   "execution_count": 392,
   "metadata": {},
   "outputs": [
    {
     "name": "stdout",
     "output_type": "stream",
     "text": [
      "9.999500012500001e-05 0.9999\n"
     ]
    },
    {
     "data": {
      "text/plain": [
       "0.9999999900009997"
      ]
     },
     "execution_count": 392,
     "metadata": {},
     "output_type": "execute_result"
    }
   ],
   "source": [
    "analytic_2 = 1 - k*dt\n",
    "analytic_1 = (2*d_mag*dt)/(d_mag*dt + (d_mag**2 * dt**2 + 4*d_mag*xi_mag)**(1/2))\n",
    "print(analytic_1, analytic_2)\n",
    "K[-1]"
   ]
  },
  {
   "cell_type": "code",
   "execution_count": 341,
   "metadata": {},
   "outputs": [
    {
     "data": {
      "text/plain": [
       "-0.9900980479926602"
      ]
     },
     "execution_count": 341,
     "metadata": {},
     "output_type": "execute_result"
    }
   ],
   "source": [
    "(K[-1] - analytic_2)/dt**2"
   ]
  },
  {
   "cell_type": "code",
   "execution_count": null,
   "metadata": {},
   "outputs": [],
   "source": []
  }
 ],
 "metadata": {
  "kernelspec": {
   "display_name": "Python 3",
   "language": "python",
   "name": "python3"
  },
  "language_info": {
   "codemirror_mode": {
    "name": "ipython",
    "version": 3
   },
   "file_extension": ".py",
   "mimetype": "text/x-python",
   "name": "python",
   "nbconvert_exporter": "python",
   "pygments_lexer": "ipython3",
   "version": "3.7.7"
  }
 },
 "nbformat": 4,
 "nbformat_minor": 4
}
